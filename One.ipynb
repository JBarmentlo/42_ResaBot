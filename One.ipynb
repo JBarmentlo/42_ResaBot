{
 "cells": [
  {
   "cell_type": "code",
   "execution_count": 1,
   "id": "aboriginal-cedar",
   "metadata": {},
   "outputs": [],
   "source": [
    "from selenium import webdriver\n",
    "from selenium.webdriver.common.keys import Keys\n",
    "from selenium.webdriver.support.ui import WebDriverWait\n",
    "from selenium.webdriver.support import expected_conditions as EC\n",
    "from selenium.webdriver.common.by import By"
   ]
  },
  {
   "cell_type": "code",
   "execution_count": 2,
   "id": "communist-singles",
   "metadata": {},
   "outputs": [],
   "source": [
    "def login(login, psswd, driver):\n",
    "    driver.get(\"https://reservation.42network.org/signin\")\n",
    "    login_field = driver.find_element_by_id(\"user_login\")\n",
    "    psswd_field = driver.find_element_by_id(\"user_password\")\n",
    "    login_field.clear()\n",
    "    login_field.send_keys(login)\n",
    "    psswd_field.clear()\n",
    "    psswd_field.send_keys(psswd)\n",
    "    psswd_field.send_keys(Keys.RETURN)\n",
    "    WebDriverWait(driver, 3).until(EC.presence_of_element_located((By.XPATH, \"//td[@class='fc-widget-content']\")))"
   ]
  },
  {
   "cell_type": "code",
   "execution_count": 3,
   "id": "governmental-algebra",
   "metadata": {},
   "outputs": [],
   "source": [
    "def logout(driver):\n",
    "    driver.find_elemt_by_xpath(\"//*[@id='navbar-main']/div[2]/a[2]\").click()\n",
    "    driver.find_element_by_xpath(\"//span[text()='logout']\").click()    "
   ]
  },
  {
   "cell_type": "code",
   "execution_count": 4,
   "id": "classified-flood",
   "metadata": {},
   "outputs": [],
   "source": [
    "def get_week_days(driver):\n",
    "    return driver.find_elements_by_xpath(\"//div[@class='fc-content-skeleton']//div[@class='fc-event-container']\")"
   ]
  },
  {
   "cell_type": "code",
   "execution_count": 5,
   "id": "stock-least",
   "metadata": {},
   "outputs": [],
   "source": [
    "def get_elements_in_day(day_element):\n",
    "    return day_element.find_elements_by_xpath(\".//a\")"
   ]
  },
  {
   "cell_type": "code",
   "execution_count": 6,
   "id": "durable-brazil",
   "metadata": {},
   "outputs": [],
   "source": [
    "slot_times = ['08:00', '09:00', '10:00', '11:00', '12:00', '13:00', '14:00', '15:00', '16:00', '17:00']"
   ]
  },
  {
   "cell_type": "code",
   "execution_count": 41,
   "id": "continued-white",
   "metadata": {},
   "outputs": [],
   "source": [
    "class Button():\n",
    "    def __init__(self, element = None):\n",
    "        self.element = element\n",
    "        self.floor = self.get_floor()\n",
    "        self.hour = self.get_hour()\n",
    "        self.reserved = self.get_reserved()\n",
    "\n",
    "\n",
    "    def get_floor(self):\n",
    "        try:\n",
    "            self.floor = self.element.find_element_by_class_name(\"fc-title\").text\n",
    "        except:\n",
    "            self.floor = None\n",
    "            print(\"SELF FLOOR NONE\")\n",
    "        \n",
    "        return self.floor\n",
    "\n",
    "\n",
    "    def get_reserved(self):\n",
    "        try:\n",
    "            self.reserved = self.element.find_element_by_xpath(\".//i[@class='mdi mdi-calendar-check fc-event-is-subscribe-icon ']\") is not None\n",
    "        except:\n",
    "            self.reserved = False\n",
    "        \n",
    "        return self.reserved\n",
    "\n",
    "\n",
    "    def get_hour(self):\n",
    "        try:\n",
    "            self.hour = self.element.find_element_by_xpath(\".//div[@class='fc-time']\").get_attribute(\"data-start\")\n",
    "        except:\n",
    "            self.hour = None\n",
    "            print(\"SELF HOUR = NONE\")\n",
    "    \n",
    "        return (self.hour)\n",
    "        \n",
    "\n",
    "    def __str__(self):\n",
    "        return (f\"{self.hour} {self.floor}, reserved: {self.reserved}\")\n",
    "\n",
    "\n",
    "\n",
    "class Slot():\n",
    "    def __init__(self, day_element, hour: str, desired = True, date = None):\n",
    "        self.hour = hour\n",
    "        self.day_element = day_element\n",
    "        self.buttons = {}\n",
    "        self.reserved = False\n",
    "        self.reserved_floor = None\n",
    "        self.desired = desired\n",
    "        self.date = date\n",
    "        self.set_buttons()\n",
    "        self.set_reserved()\n",
    "\n",
    "\n",
    "    def __str__(self):\n",
    "        return (f\"{self.hour}, reserved: {self.reserved_floor}, buttons: {[str(x) for x in self.buttons.values()]}\")\n",
    "\n",
    "\n",
    "    def get_buttons(self):\n",
    "        try:\n",
    "            return [Button(x) for x in self.day_element.find_elements_by_xpath(f\".//a/div/div[@data-start='{self.hour}']/../..\")]\n",
    "        except Exception as e:\n",
    "            print(f\"no elements found at {self.hour}\")\n",
    "            print(e)\n",
    "            return []\n",
    "        \n",
    "\n",
    "    def set_buttons(self):\n",
    "        for but in self.get_buttons():\n",
    "            self.buttons[but.floor] = but\n",
    "\n",
    "\n",
    "# REFRESH RESERVED VALEUS ??\n",
    "    def set_reserved(self):\n",
    "        reserved = False\n",
    "        for but in self.buttons.values():\n",
    "            if (but.reserved):\n",
    "                self.reserved = True\n",
    "                self.reserved_floor = but.floor\n",
    "\n",
    "    \n",
    "\n",
    "class Day():\n",
    "    def __init__(self, day_element, wanted_times = slot_times):\n",
    "        self.slots = {}\n",
    "        self.get_slots(day_element, wanted_times)\n",
    "\n",
    "\n",
    "    def get_slots(self, day_element, wanted_times):\n",
    "        for hour in wanted_times:\n",
    "            self.slots[hour] = Slot(day_element, hour)"
   ]
  },
  {
   "cell_type": "code",
   "execution_count": 19,
   "id": "becoming-sword",
   "metadata": {},
   "outputs": [],
   "source": [
    "# driver = webdriver.Chrome(\"./chromedriver_linux\")\n",
    "driver = webdriver.Firefox()\n",
    "login(\"jbarment\", \"69@TheEelHouse!\", driver)\n",
    "weekdays = get_week_days(driver)\n",
    "mday = weekdays[4]"
   ]
  },
  {
   "cell_type": "code",
   "execution_count": 43,
   "id": "modified-developer",
   "metadata": {},
   "outputs": [],
   "source": [
    "friday = Day(mday, slot_times)"
   ]
  },
  {
   "cell_type": "code",
   "execution_count": 47,
   "metadata": {},
   "outputs": [
    {
     "output_type": "stream",
     "name": "stdout",
     "text": [
      "08:00, reserved: None, buttons: ['08:00 E1, reserved: False', '08:00 E2, reserved: False', '08:00 TDM, reserved: False']\n09:00, reserved: None, buttons: ['09:00 E1, reserved: False', '09:00 E2, reserved: False', '09:00 TDM, reserved: False']\n10:00, reserved: E2, buttons: ['10:00 EXAM E1, reserved: False', '10:00 E2, reserved: True', '10:00 TDM, reserved: False']\n11:00, reserved: E2, buttons: ['11:00 E2, reserved: True', '11:00 TDM, reserved: False']\n12:00, reserved: E2, buttons: ['12:00 E1, reserved: False', '12:00 E2, reserved: True', '12:00 TDM, reserved: False']\n13:00, reserved: E2, buttons: ['13:00 E1, reserved: False', '13:00 E2, reserved: True', '13:00 TDM, reserved: False']\n14:00, reserved: E2, buttons: ['14:00 E1, reserved: False', '14:00 E2, reserved: True', '14:00 TDM, reserved: False']\n15:00, reserved: E2, buttons: ['15:00 E1, reserved: False', '15:00 E2, reserved: True', '15:00 TDM, reserved: False']\n16:00, reserved: E2, buttons: ['16:00 E1, reserved: False', '16:00 E2, reserved: True', '16:00 TDM, reserved: False']\n17:00, reserved: E2, buttons: ['17:00 E1, reserved: False', '17:00 E2, reserved: True', '17:00 TDM, reserved: False']\n"
     ]
    }
   ],
   "source": [
    "for slut in friday.slots.values():\n",
    "    print(slut)"
   ]
  },
  {
   "cell_type": "code",
   "execution_count": null,
   "id": "figured-render",
   "metadata": {},
   "outputs": [],
   "source": [
    "class wanted_slots():\n",
    "    def __init__(self, monday_start = None, monday_end = None, tuesday_start = None, tuesday_end = None, wednesday_start = None, wednesday_end = None, thursday_start = None,\n",
    "                 thursday_end = None, friday_start = None, friday_end = None, saturday_start = None, saturday_end = None, sunday_start = None, sunday_end = None):\n",
    "        self.monday_start = monday_start\n",
    "        self.monday_end = monday_end\n",
    "        self.tuesday_start = tuesday_start\n",
    "        self.tuesday_end = tuesday_end\n",
    "        self.wednesday_start = wednesday_start\n",
    "        self.wednesday_end = wednesday_end\n",
    "        self.thursday_start = thursday_start\n",
    "        self.thursday_end = thursday_end\n",
    "        self.friday_start = friday_start\n",
    "        self.friday_end = friday_end\n",
    "        self.saturday_start = saturday_start\n",
    "        self.saturday_end = saturday_end\n",
    "        self.sunday_start = sunday_start\n",
    "        self.sunday_end = sunday_end\n",
    "        self.array = [[monday_start, monday_end], [tuesday_start, tuesday_end], [wednesday_start, wednesday_end], [thursday_start, thursday_end], [friday_start, friday_end], [saturday_start, saturday_end], [sunday_start, sunday_end]]\n",
    "        \n",
    "class agenda():\n",
    "    def __init__(self, wanted_slots):\n",
    "        self.days = [[],[],[],[],[],[],[]]\n",
    "        for day in range(7):\n",
    "            print(day)"
   ]
  }
 ],
 "metadata": {
  "kernelspec": {
   "display_name": "Python 3.8.5 64-bit ('base': conda)",
   "language": "python",
   "name": "python38564bitbaseconda6a1770027b924823bf65f396110ad90f"
  },
  "language_info": {
   "codemirror_mode": {
    "name": "ipython",
    "version": 3
   },
   "file_extension": ".py",
   "mimetype": "text/x-python",
   "name": "python",
   "nbconvert_exporter": "python",
   "pygments_lexer": "ipython3",
   "version": "3.8.5-final"
  }
 },
 "nbformat": 4,
 "nbformat_minor": 5
}