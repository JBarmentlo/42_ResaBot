{
 "cells": [
  {
   "cell_type": "code",
   "execution_count": 1,
   "id": "vertical-adult",
   "metadata": {},
   "outputs": [],
   "source": [
    "from selenium import webdriver\n",
    "from selenium.webdriver.common.keys import Keys"
   ]
  },
  {
   "cell_type": "code",
   "execution_count": 2,
   "id": "successful-lesbian",
   "metadata": {},
   "outputs": [],
   "source": [
    "def login(login, psswd, driver):\n",
    "    driver.get(\"https://reservation.42network.org/signin\")\n",
    "    login_field = driver.find_element_by_id(\"user_login\")\n",
    "    psswd_field = driver.find_element_by_id(\"user_password\")\n",
    "    login_field.clear()\n",
    "    login_field.send_keys(login)\n",
    "    psswd_field.clear()\n",
    "    psswd_field.send_keys(psswd)\n",
    "    psswd_field.send_keys(Keys.RETURN)"
   ]
  },
  {
   "cell_type": "code",
   "execution_count": 3,
   "id": "happy-embassy",
   "metadata": {},
   "outputs": [],
   "source": [
    "def logout(driver):\n",
    "    driver.find_elemt_by_xpath(\"//*[@id='navbar-main']/div[2]/a[2]\").click()\n",
    "    driver.find_element_by_xpath(\"//span[text()='logout']\").click()    "
   ]
  },
  {
   "cell_type": "code",
   "execution_count": 8,
   "id": "deadly-rough",
   "metadata": {},
   "outputs": [],
   "source": [
    "def get_week_days(driver):\n",
    "    return driver.find_elements_by_xpath(\"//div[@class='fc-content-skeleton']//div[@class='fc-event-container']\")"
   ]
  },
  {
   "cell_type": "code",
   "execution_count": 9,
   "id": "painted-arbitration",
   "metadata": {},
   "outputs": [],
   "source": [
    "def get_elements_in_day(day_element):\n",
    "    return day_element.find_elements_by_xpath(\".//a\")"
   ]
  },
  {
   "cell_type": "code",
   "execution_count": 7,
   "id": "million-hanging",
   "metadata": {},
   "outputs": [],
   "source": [
    "slot_times = ['08:00', '09:00', '10:00', '11:00', '12:00', '13:00', '14:00', '15:00', '16:00', '17:00']"
   ]
  },
  {
   "cell_type": "code",
   "execution_count": 6,
   "id": "lyric-pennsylvania",
   "metadata": {},
   "outputs": [],
   "source": [
    "# driver = webdriver.Chrome(\"./chromedriver_linux\")\n",
    "driver = webdriver.Firefox()\n",
    "login(\"jbarment\", \"69@TheEelHouse!\", driver)"
   ]
  },
  {
   "cell_type": "code",
   "execution_count": 10,
   "id": "meaningful-preview",
   "metadata": {},
   "outputs": [],
   "source": [
    "weekdays = get_week_days(driver)\n",
    "mday = weekdays[6]"
   ]
  },
  {
   "cell_type": "code",
   "execution_count": 14,
   "id": "gross-treasure",
   "metadata": {},
   "outputs": [
    {
     "name": "stdout",
     "output_type": "stream",
     "text": [
      "fc-time-grid-event fc-event fc-start fc-end\n",
      "fc-time-grid-event fc-event fc-start fc-end fc-time-grid-event-inset\n",
      "fc-time-grid-event fc-event fc-start fc-end fc-time-grid-event-inset\n"
     ]
    }
   ],
   "source": [
    "for el in mday.find_elements_by_xpath(\".//a/div/div[@data-start='13:00']/../..\"):\n",
    "    print(el.get_attribute(\"class\"))"
   ]
  },
  {
   "cell_type": "code",
   "execution_count": 34,
   "id": "aging-polls",
   "metadata": {},
   "outputs": [],
   "source": [
    "sloto = mday.find_elements_by_xpath(\".//a/div/div[@data-start='13:00']/../..\")[0]"
   ]
  },
  {
   "cell_type": "code",
   "execution_count": 39,
   "id": "demographic-parallel",
   "metadata": {},
   "outputs": [],
   "source": [
    "text = sloto.find_element_by_class_name(\"fc-title\").text"
   ]
  },
  {
   "cell_type": "code",
   "execution_count": 33,
   "id": "outstanding-auditor",
   "metadata": {},
   "outputs": [
    {
     "ename": "SyntaxError",
     "evalue": "unexpected EOF while parsing (<ipython-input-33-54afbd2b5956>, line 11)",
     "output_type": "error",
     "traceback": [
      "\u001b[0;36m  File \u001b[0;32m\"<ipython-input-33-54afbd2b5956>\"\u001b[0;36m, line \u001b[0;32m11\u001b[0m\n\u001b[0;31m    \u001b[0m\n\u001b[0m    ^\u001b[0m\n\u001b[0;31mSyntaxError\u001b[0m\u001b[0;31m:\u001b[0m unexpected EOF while parsing\n"
     ]
    }
   ],
   "source": [
    "class slot():\n",
    "    def __init__(self, day, hour: str, reserved = False, desired = True, E1 = None, E2 = None, TDM = None, reserved_floor = None, date = None):\n",
    "        self.hour = hour\n",
    "        self.buttons = {'E1': E1, 'E2': E2, 'TDM': TDM}\n",
    "        self.reserved = reserved\n",
    "        self.reserved_floor = reserved_floor\n",
    "        self.desired = desired\n",
    "        self.date = date\n",
    "    "
   ]
  },
  {
   "cell_type": "code",
   "execution_count": 15,
   "id": "coordinated-closing",
   "metadata": {},
   "outputs": [],
   "source": [
    "el = mday.find_elements_by_xpath(\".//a/div/div[@data-start='13:00']/../..\")[0]"
   ]
  },
  {
   "cell_type": "code",
   "execution_count": 25,
   "id": "confident-teddy",
   "metadata": {},
   "outputs": [],
   "source": [
    "class wanted_slots():\n",
    "    def __init__(self, monday_start = None, monday_end = None, tuesday_start = None, tuesday_end = None, wednesday_start = None, wednesday_end = None, thursday_start = None,\n",
    "                 thursday_end = None, friday_start = None, friday_end = None, saturday_start = None, saturday_end = None, sunday_start = None, sunday_end = None):\n",
    "        self.monday_start = monday_start\n",
    "        self.monday_end = monday_end\n",
    "        self.tuesday_start = tuesday_start\n",
    "        self.tuesday_end = tuesday_end\n",
    "        self.wednesday_start = wednesday_start\n",
    "        self.wednesday_end = wednesday_end\n",
    "        self.thursday_start = thursday_start\n",
    "        self.thursday_end = thursday_end\n",
    "        self.friday_start = friday_start\n",
    "        self.friday_end = friday_end\n",
    "        self.saturday_start = saturday_start\n",
    "        self.saturday_end = saturday_end\n",
    "        self.sunday_start = sunday_start\n",
    "        self.sunday_end = sunday_end\n",
    "        self.array = [[monday_start, monday_end], [tuesday_start, tuesday_end], [wednesday_start, wednesday_end], [thursday_start, thursday_end], [friday_start, friday_end], [saturday_start, saturday_end], [sunday_start, sunday_end]]\n",
    "        \n",
    "class agenda():\n",
    "    def __init__(self, wanted_slots):\n",
    "        self.days = [[],[],[],[],[],[],[]]\n",
    "        for day in range(7):\n",
    "            print(day)"
   ]
  }
 ],
 "metadata": {
  "kernelspec": {
   "display_name": "Python 3",
   "language": "python",
   "name": "python3"
  },
  "language_info": {
   "codemirror_mode": {
    "name": "ipython",
    "version": 3
   },
   "file_extension": ".py",
   "mimetype": "text/x-python",
   "name": "python",
   "nbconvert_exporter": "python",
   "pygments_lexer": "ipython3",
   "version": "3.8.5"
  }
 },
 "nbformat": 4,
 "nbformat_minor": 5
}
