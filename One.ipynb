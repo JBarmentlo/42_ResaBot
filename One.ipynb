{
 "cells": [
  {
   "cell_type": "code",
   "execution_count": 11,
   "id": "careful-charger",
   "metadata": {},
   "outputs": [],
   "source": [
    "from selenium import webdriver\n",
    "from selenium.webdriver.common.keys import Keys"
   ]
  },
  {
   "cell_type": "code",
   "execution_count": 2,
   "id": "tribal-secret",
   "metadata": {},
   "outputs": [],
   "source": [
    "def login(login, psswd, driver):\n",
    "    driver.get(\"https://reservation.42network.org/signin\")\n",
    "    login_field = driver.find_element_by_id(\"user_login\")\n",
    "    psswd_field = driver.find_element_by_id(\"user_password\")\n",
    "    login_field.clear()\n",
    "    login_field.send_keys(login)\n",
    "    psswd_field.clear()\n",
    "    psswd_field.send_keys(psswd)\n",
    "    psswd_field.send_keys(Keys.RETURN)"
   ]
  },
  {
   "cell_type": "code",
   "execution_count": 3,
   "id": "royal-leather",
   "metadata": {},
   "outputs": [],
   "source": [
    "def logout(driver):\n",
    "    driver.find_elemt_by_xpath(\"//*[@id='navbar-main']/div[2]/a[2]\").click()\n",
    "    driver.find_element_by_xpath(\"//span[text()='logout']\").click()    "
   ]
  },
  {
   "cell_type": "code",
   "execution_count": 96,
   "id": "built-clearing",
   "metadata": {},
   "outputs": [],
   "source": [
    "def get_week_days(driver):\n",
    "#     return driver.find_elements_by_xpath(\"//div[@class='fc-content-skeleton']/table/tbody/tr/td\")\n",
    "    return driver.find_elements_by_xpath(\"//div[@class='fc-content-skeleton']//div[@class='fc-event-container']\")\n",
    "#     return driver.find_elements_by_xpath(\"//div[@class='fc-content-skeleton']\")"
   ]
  },
  {
   "cell_type": "code",
   "execution_count": 5,
   "id": "dress-selling",
   "metadata": {},
   "outputs": [],
   "source": [
    "driver = webdriver.Chrome(\"./chromedriver\")\n",
    "login(\"jbarment\", \"69@TheEelHouse!\", driver)"
   ]
  },
  {
   "cell_type": "code",
   "execution_count": 74,
   "id": "inappropriate-spouse",
   "metadata": {},
   "outputs": [],
   "source": [
    "weekdays = get_week_days(driver)\n",
    "mday = weekdays[3]"
   ]
  },
  {
   "cell_type": "code",
   "execution_count": 91,
   "id": "disturbed-melbourne",
   "metadata": {},
   "outputs": [
    {
     "name": "stdout",
     "output_type": "stream",
     "text": [
      "fc-event-container\n",
      "fc-event-container\n",
      "fc-event-container\n",
      "fc-event-container\n",
      "fc-event-container\n",
      "fc-event-container\n",
      "fc-event-container\n"
     ]
    }
   ],
   "source": [
    "for el in weekdays:\n",
    "    print(el.get_attribute(\"class\"))"
   ]
  },
  {
   "cell_type": "code",
   "execution_count": 87,
   "id": "recorded-equivalent",
   "metadata": {},
   "outputs": [],
   "source": [
    "mday = weekdays[3]"
   ]
  },
  {
   "cell_type": "code",
   "execution_count": 102,
   "id": "ongoing-marker",
   "metadata": {},
   "outputs": [],
   "source": [
    "# len(mday.find_elements_by_xpath(\"//a[@class=*]\"))\n",
    "def get_elements_in_day(day_element):\n",
    "    return day_element.find_elements_by_xpath(\".//a\")\n"
   ]
  },
  {
   "cell_type": "code",
   "execution_count": 103,
   "id": "downtown-information",
   "metadata": {},
   "outputs": [
    {
     "data": {
      "text/plain": [
       "33"
      ]
     },
     "execution_count": 103,
     "metadata": {},
     "output_type": "execute_result"
    }
   ],
   "source": [
    "# a = driver.find_element_by_xpath(\"//*[@id='app']/div[2]/section/div[2]/div[2]/div/table/tbody/tr/td/div/div/div[3]/table/tbody/tr/td[5]/div/div[2]/a[31]\")\n",
    "# a.get_attribute(\"class\")\n",
    "len(mday.find_elements_by_xpath(\".//a[@class='fc-time-grid-event fc-event fc-start fc-end']\"))\n",
    "els = get_elements_in_day(get_week_days(driver)[5])\n",
    "len(els)"
   ]
  },
  {
   "cell_type": "code",
   "execution_count": 90,
   "id": "weighted-pizza",
   "metadata": {},
   "outputs": [],
   "source": [
    "els[4].click()"
   ]
  }
 ],
 "metadata": {
  "kernelspec": {
   "display_name": "Python 3",
   "language": "python",
   "name": "python3"
  },
  "language_info": {
   "codemirror_mode": {
    "name": "ipython",
    "version": 3
   },
   "file_extension": ".py",
   "mimetype": "text/x-python",
   "name": "python",
   "nbconvert_exporter": "python",
   "pygments_lexer": "ipython3",
   "version": "3.8.5"
  }
 },
 "nbformat": 4,
 "nbformat_minor": 5
}
